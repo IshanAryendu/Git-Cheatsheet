{
 "cells": [
  {
   "cell_type": "markdown",
   "metadata": {},
   "source": [
    "# Getting Started With Git:"
   ]
  },
  {
   "cell_type": "markdown",
   "metadata": {},
   "source": [
    "#### Useful commands:\n",
    "- **clone** -> Bring a repository hosted somewhere like github into a folder on your local machine\n",
    "- **add** -> Track your files and changes in Git\n",
    "- **commit** -> Save your files in Git\n",
    "- **push** -> Upload Git commits to a remote repo\n",
    "- **pull** -> Download changes from remote repo to your local machine (the opposite of push)"
   ]
  },
  {
   "cell_type": "markdown",
   "metadata": {},
   "source": [
    "#### Create a github profile\n",
    "- Create a new repository\n",
    "\n",
    "First start by setting up your own public/private key pair set. This can use either DSA or RSA, so basically any key you setup will work. On most systems you can use ssh-keygen.\n",
    "\n",
    "- You'll want to cd into your .ssh directory. Open up the terminal and run:\n",
    "    `cd ~/.ssh && ssh-keygen -t rsa -b 4096 -C \"email@example.com`\n",
    "- Next you need to copy this to your clipboard.\n",
    "\n",
    "    * On OS X run: `cat id_rsa.pub | pbcopy` or `pbcopy < id_rsa.pub`\n",
    "    * On Linux run: `cat id_rsa.pub | xclip`\n",
    "    * On Windows (**via Cygwin/Git Bash**) run: `cat id_rsa.pub | clip`\n",
    "    \n",
    "- Add your key to your account via the website.\n",
    "\n",
    "    1. Log into your GitHub account.\n",
    "    2. Click your avatar and choose Settings.\n",
    "    3. Select SSH and GPG keys.\n",
    "    4. Click New SSH key.\n",
    "    5. Enter a title in the field.\n",
    "    6. Paste your public key into the Key field.\n",
    "    7. Click Add SSH key.\n",
    "    \n",
    "- Finally setup your `.gitconfig`\n",
    "\n",
    "    1. `git config --global user.name \"bob\"`\n",
    "    2. `git config --global user.email bob@...` (don't forget to restart your command line to make sure the config is reloaded)\n",
    "    \n",
    "#### If the user has generated a ssh public/private key pair set before\n",
    "\n",
    "1. check which key have been authorized on your github or gitlab account settings\n",
    "2. determine which corresponding private key must be associated from your local computer \n",
    "    `eval $(ssh-agent -s)`\n",
    "3. define where the keys are located\n",
    "    `ssh-add ~/.ssh/id_rsa`\n",
    "\n",
    "\n",
    "\n"
   ]
  },
  {
   "cell_type": "markdown",
   "metadata": {},
   "source": [
    "#### Walkthrough: Creating a project from scratch\n",
    "1. Create a local directory for your project\n",
    "    `mkdir Test_Repo`\n",
    "2. Get into the project directory\n",
    "    `cd Test_Repo/`\n",
    "3. List all the files in the directory\n",
    "    `ll`\n",
    "4. Initialize git to track the project documents\n",
    "    `git init`\n",
    "5. Get the tracking status of the files in the empty repository\n",
    "    `git status`\n",
    "    \n",
    "        On branch master\n",
    "\n",
    "        No commits yet\n",
    "\n",
    "        nothing to commit (create/copy files and use \"git add\" to track)\n",
    "\n",
    "6. Make changes to the files\\ Create new files\n",
    "\n",
    "    `echo \"Test Repository\" > README.md`\n",
    "    \n",
    "7. Get the tracking status of the files after making the changes\n",
    "    `git status`\n",
    "    \n",
    "        On branch master\n",
    "\n",
    "        No commits yet\n",
    "\n",
    "        Untracked files:\n",
    "          \"(use \"git add <file\\>...\" to include in what will be committed)\n",
    "    \n",
    "        README.md\n",
    "\n",
    "        nothing added to commit but untracked files present (use \"git add\" to track)\n",
    " \n",
    " \n",
    " 8. Add the files to the git tracker\n",
    "     `git add`\n",
    " 9. Get the tracking status of the files after adding the files to the tracker\n",
    "     `git status`\n",
    "        \n",
    "        On branch master\n",
    "\n",
    "        No commits yet\n",
    "\n",
    "        Changes to be committed:\n",
    "          (use \"git rm --cached <file\\>...\" to unstage)\n",
    "\n",
    "        new file:   README.md\n",
    "\n",
    " 10. After you're sure everything is in order, commit these changes for deployment (files are stored locally)\n",
    "     `git commit -m \"Initial Commit\" -m \"Created README\"`\n",
    "     \n",
    "    [master (root-commit) 96238a0] Initial Commit\n",
    "     1 file changed, 1 insertion(+)\n",
    "     create mode 100644 README.md\n",
    "\n",
    "11. Add the remote repository where these files have to be hosted\n",
    "    `git remote add origin git@github.com:UserName/Project.git`\n",
    "12. Get the information about the origin data for the project\n",
    "    `git remote -v`\n",
    "    \n",
    "        origin\tgit@github.com:UserName/Project.git (fetch)\n",
    "        origin\tgit@github.com:UserName/Project.git (push)\n",
    "\n",
    "13. Push these changes to the master branch \n",
    "    `git push -u origin master`"
   ]
  },
  {
   "cell_type": "markdown",
   "metadata": {},
   "source": [
    "#### Walkthrough: Working on an existing remote project\n",
    "1. Clone a remote repository for making changes\n",
    "    `git clone git@github.com:UserName/Project.git`\n",
    "2. Enter into the cloned directory to make changes\n",
    "    `cd Project/`\n",
    "3. Make the changes to the files\n",
    "    `nano README.md`\n",
    "4. Add the untracked files to the git tracker\n",
    "    `git add .`\n",
    "5. Get the details of the changes that are currently being tracked by git\n",
    "    `git status`\n",
    "6. After you're sure everything is in order, commit these changes for deployment (**files are stored locally**)\n",
    "    `git commit -m \"Updated Project\" -m \"Updated the Project with tax changes for Dec 2020\"`\n",
    "7. Push these changes to the master branch\n",
    "    `git push -u origin master`\n",
    "8. Finally check the project at GitHub"
   ]
  },
  {
   "cell_type": "markdown",
   "metadata": {},
   "source": [
    "#### Working on multiple features at once (Creating a pull request)\n",
    "1. To find the branch you're working on\n",
    "\t`git branch`\n",
    "\n",
    "2. To switch between different branches, use \n",
    "\t`git checkout <branch_name>`\n",
    "\n",
    "3. To create new branch\n",
    "\t`git checkout -b <name_of_your_new_branch>`\n",
    "\teg. `git checkout -b feature/<issue_no>`\n",
    "\n",
    "4. To check the changes made to the files between the two branches\n",
    "\t`git diff <name_of_your_new_branch>`\n",
    "\n",
    "5. To merge the branches locally\n",
    "\t`git merge <name_of_your_new_branch>`\n",
    "\n",
    "6. To request a pull request (a request to get your changes to be pulled onto another branch)\n",
    "\t`git push --set-upstream origin  name_of_your_new_branch`\n",
    "\t\n",
    "**Note:** Once the pull request is merged with the master branch, for any further enhancements to the program, create a new branch from the master branch.\n",
    "\n",
    "**Note:** If you locally switch over to the master branch after the pull request has been merged, the changes won't reflect in there. You'll need to pull in the contents of the master branch from the remote repository.\n",
    "\n",
    "7. To delete the branch after it has been merged\n",
    "\t`git branch -d name_of_your_new_branch`\n",
    "\t"
   ]
  },
  {
   "cell_type": "markdown",
   "metadata": {},
   "source": [
    "#### Undoing changes\n",
    "1. Undo staging\n",
    " `git reset <file_name>`\n",
    "2. Undo commits\n",
    " `git reset HEAD~1`\n",
    "**Note:** instead of commiting the changes that we made  now, we want to go to the stage prior to this commit.\n",
    "3. To view all the commits made to the project\n",
    " `git log`\n",
    "4. To go back to a specific commit, use the hash from the log\n",
    " `git reset <hash>`"
   ]
  },
  {
   "cell_type": "markdown",
   "metadata": {},
   "source": [
    "# Overview of the process"
   ]
  },
  {
   "cell_type": "markdown",
   "metadata": {},
   "source": [
    "## Some of the production scenarios you might run into:"
   ]
  },
  {
   "cell_type": "markdown",
   "metadata": {},
   "source": [
    "### Scenario #1: You're in middle of a feature development and your Boss asks you to work on another feature on priority\n",
    "\n",
    "This is a complicated scenario. You haven't completed all of the coding for the project. If you commit these changes to the master branch, the apllication will break. If you decide to work on the new feature right away the best possible scenario is to commit these changes and pull the code from the stable development branch. Build the feature needed on priority and commit the additional features you were working on at a later point."
   ]
  },
  {
   "cell_type": "markdown",
   "metadata": {},
   "source": [
    "#### STEP 1: You have a local version of this repository on your laptop, and to get the latest stable version, you pull from the develop branch.\n",
    "\n",
    "Switch to the develop branch\n",
    "\n",
    "    git checkout develop\n",
    "\n",
    "Pull latest changes in the develop branch\n",
    "\n",
    "    git pull\n"
   ]
  },
  {
   "cell_type": "markdown",
   "metadata": {},
   "source": [
    "#### STEP 2: When you start working on this demographic feature, you create a new branch for this called demographic, and start working on your code in this branch.\n",
    "\n",
    "Create and switch to new branch called demographic from develop branch\n",
    "\n",
    "    git checkout -b demographic\n",
    "\n",
    "Work on this new feature and commit as you go\n",
    "\n",
    "    git commit -m 'added gender recommendations'\n",
    "    git commit -m 'added location specific recommendations'\n",
    "    ...\n"
   ]
  },
  {
   "cell_type": "markdown",
   "metadata": {},
   "source": [
    "#### STEP 3: However, in the middle of your work, you need to work on another feature. So you commit your changes on this demographic branch, and switch back to the develop branch.\n",
    "\n",
    "Commit changes before switching\n",
    "\n",
    "    git commit -m 'refactored demographic gender and location recommendations '\n",
    "\n",
    "Switch to the develop branch\n",
    "\n",
    "    git checkout develop\n"
   ]
  },
  {
   "cell_type": "markdown",
   "metadata": {},
   "source": [
    "#### STEP 4: From this stable develop branch, you create another branch for a new feature called friend_groups.\n",
    "\n",
    "Create and switch to new branch called friend_groups from develop branch\n",
    "\n",
    "    git checkout -b friend_groups\n"
   ]
  },
  {
   "cell_type": "markdown",
   "metadata": {},
   "source": [
    "#### STEP 5: After you finish your work on the friend_groups branch, you commit your changes, switch back to the development branch, merge it back to the develop branch, and push this to the remote repository’s develop branch.\n",
    "\n",
    "Commit changes before switching\n",
    "\n",
    "    git commit -m 'finalized friend_groups recommendations '\n",
    "\n",
    "Switch to the develop branch\n",
    "\n",
    "    git checkout develop\n",
    "\n",
    "Merge friend_groups branch to develop\n",
    "\n",
    "    git merge --no-ff friends_groups\n",
    "\n",
    "Push to remote repository\n",
    "\n",
    "    git push origin develop\n"
   ]
  },
  {
   "cell_type": "markdown",
   "metadata": {},
   "source": [
    "#### STEP 6: Now, you can switch back to the demographic branch to continue your progress on that feature.\n",
    "\n",
    "Switch to the demographic branch\n",
    "\n",
    "    git checkout demographic\n"
   ]
  },
  {
   "cell_type": "markdown",
   "metadata": {},
   "source": [
    "### Scenario #2: You were tweaking the parameters and commiting the changes along with the value of your performance and loss function. But you forgot for which value of the parameters the model performed the best."
   ]
  },
  {
   "cell_type": "markdown",
   "metadata": {},
   "source": [
    "#### Step 1: You check your commit history, seeing messages of the changes you made and how well it performed.\n",
    "\n",
    "View log history\n",
    "\n",
    "    git log\n"
   ]
  },
  {
   "cell_type": "markdown",
   "metadata": {},
   "source": [
    "#### Step 2: The model at this commit seemed to score the highest, so you decide to take a look.\n",
    "\n",
    "Checkout a commit\n",
    "\n",
    "    git checkout bc90f2cbc9dc4e802b46e7a153aa106dc9a88560\n",
    "\n",
    "After inspecting your code, you realize what modifications made this perform well, and use those for your model."
   ]
  },
  {
   "cell_type": "markdown",
   "metadata": {},
   "source": [
    "#### Step 3: Now, you’re pretty confident merging this back into the development branch, and pushing the updated recommendation engine.\n",
    "\n",
    "Switch to develop branch\n",
    "\n",
    "    git checkout develop\n",
    "\n",
    "Merge friend_groups branch to develop\n",
    "\n",
    "    git merge --no-ff friend_groups\n",
    "\n",
    "Push changes to remote repository\n",
    "\n",
    "    git push origin develop\n"
   ]
  },
  {
   "cell_type": "markdown",
   "metadata": {},
   "source": [
    "###  Scenario #3 Version Control Merging Branches On A Team V1 V2"
   ]
  },
  {
   "cell_type": "markdown",
   "metadata": {},
   "source": [
    "#### Step 1: Andrew commits his changes to the documentation branch, switches to the development branch, and pulls down the latest changes from the cloud on this development branch, including the change I merged previously for the friends group feature.\n",
    "\n",
    "Commit changes on documentation branch\n",
    "\n",
    "    git commit -m \"standardized all docstrings in process.py\"\n",
    "\n",
    "Switch to develop branch\n",
    "\n",
    "    git checkout develop\n",
    "\n",
    "Pull latest changes on develop down\n",
    "\n",
    "    git pull\n"
   ]
  },
  {
   "cell_type": "markdown",
   "metadata": {},
   "source": [
    "#### Step 2: Then, Andrew merges his documentation branch on the develop branch on his local repository, and then pushes his changes up to update the develop branch on the remote repository.\n",
    "\n",
    "Merge documentation branch to develop\n",
    "\n",
    "    git merge --no-ff documentation\n",
    "\n",
    "Push changes up to remote repository\n",
    "\n",
    "    git push origin develop\n"
   ]
  },
  {
   "cell_type": "markdown",
   "metadata": {},
   "source": [
    "#### Step 3: After the team reviewed both of your work, they merge the updates from the development branch to the master branch. Now they push the changes to the master branch on the remote repository. These changes are now in production.\n",
    "\n",
    "Merge develop to master\n",
    "\n",
    "    git merge --no-ff develop\n",
    "\n",
    "Push changes up to remote repository\n",
    "\n",
    "    git push origin master\n"
   ]
  }
 ],
 "metadata": {
  "kernelspec": {
   "display_name": "Python 3",
   "language": "python",
   "name": "python3"
  },
  "language_info": {
   "codemirror_mode": {
    "name": "ipython",
    "version": 3
   },
   "file_extension": ".py",
   "mimetype": "text/x-python",
   "name": "python",
   "nbconvert_exporter": "python",
   "pygments_lexer": "ipython3",
   "version": "3.7.6"
  }
 },
 "nbformat": 4,
 "nbformat_minor": 4
}
